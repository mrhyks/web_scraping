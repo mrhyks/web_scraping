{
 "cells": [
  {
   "cell_type": "code",
   "execution_count": 1,
   "metadata": {},
   "outputs": [],
   "source": [
    "import requests\n",
    "from bs4 import BeautifulSoup"
   ]
  },
  {
   "cell_type": "code",
   "execution_count": 2,
   "metadata": {},
   "outputs": [],
   "source": [
    "res = requests.get(\"https://codedamn-classrooms.github.io/webscraper-python-codedamn-classroom-website/\")\n",
    "soup = BeautifulSoup(res.text, 'html.parser')"
   ]
  },
  {
   "cell_type": "code",
   "execution_count": 3,
   "metadata": {},
   "outputs": [
    {
     "name": "stdout",
     "output_type": "stream",
     "text": [
      "[{'name': 'Asus AsusPro Adv...', 'description': 'Asus AsusPro Advanced BU401LA-FA271G Dark Grey,\\n\\t\\t\\t\\t\\t\\t\\t\\t\\t\\t\\t14\", Core i5-4210U, 4GB, 128GB SSD, Win7 Pro 64bit,\\n\\t\\t\\t\\t\\t\\t\\t\\t\\t\\t\\tENG'}, {'name': 'Asus ROG Strix G...', 'description': 'Apple MacBook Air 13.3\", Core i5 1.8GHz, 8GB, 128GB\\n\\t\\t\\t\\t\\t\\t\\t\\t\\t\\t\\tSSD, Intel HD 4000, RUS'}, {'name': 'Acer Aspire 3 A3...', 'description': 'Acer Aspire 3 A315-51 Black, 15.6\" FHD, Core\\n\\t\\t\\t\\t\\t\\t\\t\\t\\t\\t\\ti3-7100U, 4GB, 500GB + 128GB SSD, Windows 10 Home'}]\n"
     ]
    }
   ],
   "source": [
    "top_items = []\n",
    "\n",
    "for elem in soup.select('div.thumbnail'):\n",
    "    top_items.append({\n",
    "        \"name\": elem.select('h4 > a')[0].text.strip(),\n",
    "        \"description\": elem.select('p.description')[0].text.strip()\n",
    "    })\n",
    "    \n",
    "\n",
    "print(top_items)"
   ]
  },
  {
   "cell_type": "code",
   "execution_count": 4,
   "metadata": {},
   "outputs": [
    {
     "name": "stdout",
     "output_type": "stream",
     "text": [
      "[{'src': '/webscraper-python-codedamn-classroom-website/logo_white.svg', 'alt': 'Web Scraper'}, {'src': '/webscraper-python-codedamn-classroom-website/cart2.png', 'alt': 'item'}, {'src': '/webscraper-python-codedamn-classroom-website/cart2.png', 'alt': 'item'}, {'src': '/webscraper-python-codedamn-classroom-website/cart2.png', 'alt': 'item'}, {'src': '/webscraper-python-codedamn-classroom-website/fbicon.png', 'alt': 'Web Scraper on Facebook'}, {'src': '/webscraper-python-codedamn-classroom-website/twicon.png', 'alt': 'Web Scraper on Twitter'}]\n"
     ]
    }
   ],
   "source": [
    "image_items = []\n",
    "for image in soup.select('img'):\n",
    "    image_items.append({\"src\": image.get('src'), \"alt\": image.get('alt')})\n",
    "    \n",
    "print(image_items)"
   ]
  },
  {
   "cell_type": "code",
   "execution_count": 5,
   "metadata": {},
   "outputs": [
    {
     "name": "stdout",
     "output_type": "stream",
     "text": [
      "[{'href': '', 'text': '\\n\\nToggle navigation\\n\\n\\n\\n\\n'}, {'href': '/webscraper-python-codedamn-classroom-website/', 'text': ''}, {'href': '#page-top', 'text': ''}, {'href': '/webscraper-python-codedamn-classroom-website/', 'text': '\\nWeb Scraper\\n\\n'}, {'href': '/webscraper-python-codedamn-classroom-website/cloud-scraper', 'text': '\\nCloud Scraper\\n\\n'}, {'href': '/webscraper-python-codedamn-classroom-website/pricing', 'text': '\\nPricing\\n\\n'}, {'href': '#section3', 'text': '\\nLearn\\n\\n'}, {'href': '/webscraper-python-codedamn-classroom-website/documentation', 'text': 'Documentation'}, {'href': '/webscraper-python-codedamn-classroom-website/tutorials', 'text': 'Video Tutorials'}, {'href': '/webscraper-python-codedamn-classroom-website/how-to-videos', 'text': 'How to'}, {'href': '/webscraper-python-codedamn-classroom-website/test-sites', 'text': 'Test Sites'}, {'href': 'https://forum.webscraper.io/', 'text': 'Forum'}, {'href': 'https://chrome.google.com/webstore/detail/web-scraper/jnhgnonknehpejjnehehllkliplmbmhn?hl=en', 'text': 'Install'}, {'href': 'https://cloud.webscraper.io/', 'text': 'Login'}, {'href': '/webscraper-python-codedamn-classroom-website/test-sites/e-commerce/allinone', 'text': 'Home'}, {'href': '/webscraper-python-codedamn-classroom-website/test-sites/e-commerce/allinone/computers', 'text': '\\n\\t\\t\\t\\t\\t\\t\\t\\t\\t\\t\\tComputers\\n\\t\\t\\t\\t\\t\\t\\t\\t\\t\\t\\t\\n'}, {'href': '/webscraper-python-codedamn-classroom-website/test-sites/e-commerce/allinone/phones', 'text': '\\n\\t\\t\\t\\t\\t\\t\\t\\t\\t\\t\\tPhones\\n\\t\\t\\t\\t\\t\\t\\t\\t\\t\\t\\t\\n'}, {'href': '/webscraper-python-codedamn-classroom-website/test-sites/e-commerce/allinone/product/593', 'text': 'Asus AsusPro Adv...'}, {'href': '/webscraper-python-codedamn-classroom-website/test-sites/e-commerce/allinone/product/583', 'text': 'Asus ROG Strix G...'}, {'href': '/webscraper-python-codedamn-classroom-website/test-sites/e-commerce/allinone/product/576', 'text': 'Acer Aspire 3 A3...'}, {'href': '/webscraper-python-codedamn-classroom-website/', 'text': 'Web Scraper browser extension'}, {'href': '/webscraper-python-codedamn-classroom-website/pricing', 'text': 'Web Scraper Cloud'}, {'href': '/webscraper-python-codedamn-classroom-website/contact', 'text': 'Contact'}, {'href': '/webscraper-python-codedamn-classroom-website/privacy-policy', 'text': 'Website Privacy Policy'}, {'href': '/webscraper-python-codedamn-classroom-website/extension-privacy-policy', 'text': 'Browser Extension Privacy Policy'}, {'href': 'http://webscraperio.us-east-1.elasticbeanstalk.com/downloads/Web_Scraper_Media_Kit.zip', 'text': 'Media kit'}, {'href': '/webscraper-python-codedamn-classroom-website/jobs', 'text': 'Jobs'}, {'href': '/webscraper-python-codedamn-classroom-website/blog', 'text': 'Blog'}, {'href': '/webscraper-python-codedamn-classroom-website/documentation', 'text': 'Documentation'}, {'href': '/webscraper-python-codedamn-classroom-website/tutorials', 'text': 'Video Tutorials'}, {'href': '/webscraper-python-codedamn-classroom-website/screenshots', 'text': 'Screenshots'}, {'href': '/webscraper-python-codedamn-classroom-website/test-sites', 'text': 'Test Sites'}, {'href': 'https://forum.webscraper.io/', 'text': 'Forum'}, {'href': 'mailto:info@webscraper.io', 'text': 'info@webscraper.io'}, {'href': 'https://www.facebook.com/webscraperio/', 'text': ''}, {'href': 'https://twitter.com/webscraperio', 'text': ''}, {'href': '#', 'text': 'Web Scraper'}]\n"
     ]
    }
   ],
   "source": [
    "links = []\n",
    "for a_tag in soup.select('a'):\n",
    "    href = a_tag.get('href')\n",
    "    text = a_tag.text\n",
    "    \n",
    "    if isinstance(href, list):\n",
    "        href = ' '.join(href)\n",
    "        \n",
    "    links.append({'href': href.strip() if href is not None else '', 'text': text if text is not None else ''})\n",
    "    \n",
    "print(links)"
   ]
  },
  {
   "cell_type": "code",
   "execution_count": 16,
   "metadata": {},
   "outputs": [],
   "source": [
    "import csv\n",
    "products = []\n",
    "for product in soup.select('div.thumbnail'):\n",
    "    products.append({\n",
    "        \"name\": product.select('h4 > a')[0].text.strip(),\n",
    "        \"description\": product.select('p.description')[0].text.strip(),\n",
    "        \"price\": product.select('h4.price')[0].text.strip(),\n",
    "        \"reviews\": product.select('div.ratings')[0].text.strip(),\n",
    "        \"img\": product.select('img')[0].get('src').strip(),\n",
    "    })\n",
    "    \n",
    "keys = products[0].keys()\n",
    "\n",
    "with open('products.csv', 'w', newline='') as output_file:\n",
    "    dict_writer = csv.DictWriter(output_file, keys, delimiter=';')\n",
    "    dict_writer.writeheader()\n",
    "    dict_writer.writerows(products)"
   ]
  }
 ],
 "metadata": {
  "kernelspec": {
   "display_name": ".venv",
   "language": "python",
   "name": "python3"
  },
  "language_info": {
   "codemirror_mode": {
    "name": "ipython",
    "version": 3
   },
   "file_extension": ".py",
   "mimetype": "text/x-python",
   "name": "python",
   "nbconvert_exporter": "python",
   "pygments_lexer": "ipython3",
   "version": "3.10.12"
  }
 },
 "nbformat": 4,
 "nbformat_minor": 2
}
